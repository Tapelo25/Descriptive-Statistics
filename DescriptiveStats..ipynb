{
 "cells": [
  {
   "cell_type": "code",
   "execution_count": 9,
   "id": "1ba59a2c-f814-443c-8872-9665b4584b0c",
   "metadata": {},
   "outputs": [],
   "source": [
    "# Import necessary libraries\n",
    "import pandas as pd"
   ]
  },
  {
   "cell_type": "code",
   "execution_count": 11,
   "id": "011d3d97-ba30-4fa5-bab4-bfe8438d8103",
   "metadata": {},
   "outputs": [],
   "source": [
    "#Read csv file\n",
    "df = pd.read_csv('Stats.csv')"
   ]
  },
  {
   "cell_type": "code",
   "execution_count": 13,
   "id": "8d21a524-2924-42a9-ba4e-747cd037b0f3",
   "metadata": {},
   "outputs": [],
   "source": [
    "# Descriptive Statistical Methods\n",
    "# Calculate mean, median, and standard deviation for the 'Age' and 'Salary' columns\n",
    "mean_age = df['Age'].mean()\n",
    "median_age = df['Age'].median()\n",
    "std_age = df['Age'].std()"
   ]
  },
  {
   "cell_type": "code",
   "execution_count": 15,
   "id": "aa2123d6-cf67-45ba-a678-66dcb6165767",
   "metadata": {},
   "outputs": [],
   "source": [
    "# Descriptive Statistical Methods\n",
    "# Calculate mean, median, and standard deviation for the 'Age' and 'Salary' columns\n",
    "mean_age = df['Age'].mean()\n",
    "median_age = df['Age'].median()\n",
    "std_age = df['Age'].std()\n",
    "\n",
    "mean_salary = df['Salary'].mean()\n",
    "median_salary = df['Salary'].median()\n",
    "std_salary = df['Salary'].std()"
   ]
  },
  {
   "cell_type": "code",
   "execution_count": 17,
   "id": "9ac4b384-a0d8-4f51-a8cf-3954d9b6b5fc",
   "metadata": {},
   "outputs": [
    {
     "name": "stdout",
     "output_type": "stream",
     "text": [
      "\n",
      "Descriptive Statistics for 'Age':\n",
      "Mean: 28.0\n",
      "Median: 28.0\n",
      "Standard Deviation: 4.949747468305833\n",
      "\n",
      "Descriptive Statistics for 'Salary':\n",
      "Mean: 56000.0\n",
      "Median: 55000.0\n",
      "Standard Deviation: 9617.692030835673\n"
     ]
    }
   ],
   "source": [
    "# Display the descriptive statistics\n",
    "print(\"\\nDescriptive Statistics for 'Age':\")\n",
    "print(f\"Mean: {mean_age}\")\n",
    "print(f\"Median: {median_age}\")\n",
    "print(f\"Standard Deviation: {std_age}\")\n",
    "\n",
    "print(\"\\nDescriptive Statistics for 'Salary':\")\n",
    "print(f\"Mean: {mean_salary}\")\n",
    "print(f\"Median: {median_salary}\")\n",
    "print(f\"Standard Deviation: {std_salary}\")"
   ]
  }
 ],
 "metadata": {
  "kernelspec": {
   "display_name": "anaconda-panel-2023.05-py310",
   "language": "python",
   "name": "conda-env-anaconda-panel-2023.05-py310-py"
  },
  "language_info": {
   "codemirror_mode": {
    "name": "ipython",
    "version": 3
   },
   "file_extension": ".py",
   "mimetype": "text/x-python",
   "name": "python",
   "nbconvert_exporter": "python",
   "pygments_lexer": "ipython3",
   "version": "3.11.5"
  }
 },
 "nbformat": 4,
 "nbformat_minor": 5
}
